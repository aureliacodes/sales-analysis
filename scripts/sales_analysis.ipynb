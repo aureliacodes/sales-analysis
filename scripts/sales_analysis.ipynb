{
 "cells": [
  {
   "cell_type": "markdown",
   "id": "439607d9-693f-45e4-b66b-7ba14f97be0b",
   "metadata": {},
   "source": [
    "# Data Analysis and Visualization with SQLite and Pandas\n",
    "\n",
    "This notebook demonstrates how to extract data from an SQLite database, clean the data, perform basic analysis, and create visualizations using Pandas and Matplotlib.\n"
   ]
  },
  {
   "cell_type": "code",
   "execution_count": null,
   "id": "a0dc129e-c89d-477c-b4ec-0834fd1c6e94",
   "metadata": {},
   "outputs": [],
   "source": [
    "import sqlite3\n",
    "import pandas as pd\n",
    "import matplotlib.pyplot as plt \n"
   ]
  },
  {
   "cell_type": "markdown",
   "id": "1e415f90-8e7f-44d3-a9f2-f0ce00e762ab",
   "metadata": {},
   "source": [
    "## Connecting to the Database\n",
    "We connect to the SQLite database file (`sales_data.db`) to retrieve order and customer data.\n"
   ]
  },
  {
   "cell_type": "code",
   "execution_count": null,
   "id": "37ad5454-dfef-4bc1-8f95-fd7b8310230d",
   "metadata": {},
   "outputs": [
    {
     "name": "stdout",
     "output_type": "stream",
     "text": [
      "Connected to the database ../data/sales_data.db.\n"
     ]
    }
   ],
   "source": [
    "db_file = '../data/sales_data.db'\n",
    "conn = sqlite3.connect(db_file)\n",
    "print(f\"Connected to the database {db_file}.\")"
   ]
  },
  {
   "cell_type": "markdown",
   "id": "ff28adc6-51c3-4633-9df3-a6719a214828",
   "metadata": {},
   "source": [
    "# Example 1: Data Extraction using SQL and Loading into Pandas\n",
    "\n",
    "This example demonstrates how to extract data by writing an SQL query that combines information from two tables (`orders` and `customers`) using an SQL `JOIN`. The data is then loaded into a Pandas DataFrame for further analysis. \n",
    "\n",
    "### Steps:\n",
    "1. Write an SQL query to fetch columns such as `order_id`, `order_date`, customer details (`first_name`, `last_name`, `email`), and `total_amount` from the `orders` table joined with the `customers` table.\n",
    "2. Use `pandas.read_sql_query` to execute the SQL query and convert the resulting data into a Pandas DataFrame.\n",
    "3. Display the extracted data by printing the first 5 rows of the DataFrame using `.head()`.\n",
    "\n",
    "This is useful for combining and transforming data from relational databases into a tabular format compatible with Python for analysis or visualization.\n"
   ]
  },
  {
   "cell_type": "code",
   "execution_count": null,
   "id": "3e833d7f-b06d-4f7e-b7c4-a1ade5ae2f38",
   "metadata": {},
   "outputs": [
    {
     "name": "stdout",
     "output_type": "stream",
     "text": [
      "\n",
      "--- Extracting orders and customers ---\n",
      "Extracted orders and customers data:\n",
      "   order_id  order_date first_name   last_name                 email  \\\n",
      "0      1001  2023-10-20        Ana     Popescu       ana.p@email.com   \n",
      "1      1002  2023-10-21     Bogdan     Ionescu    bogdan.i@email.com   \n",
      "2      1003  2023-11-05        Ana     Popescu       ana.p@email.com   \n",
      "3      1004  2023-11-10   Cristina  Diaconescu  cristina.d@email.com   \n",
      "4      1005  2023-11-15        Dan   Georgescu       dan.g@email.com   \n",
      "\n",
      "   total_amount  \n",
      "0        4650.0  \n",
      "1         150.0  \n",
      "2         550.0  \n",
      "3        1200.0  \n",
      "4        4500.0  \n"
     ]
    }
   ],
   "source": [
    "# --- Example 1: Data extraction using SQL and loading into Pandas ---\n",
    "print(\"\\n--- Extracting orders and customers ---\")\n",
    "\n",
    "# Writing the SQL query to join orders and customers tables\n",
    "query_orders_customers = \"\"\"\n",
    "SELECT\n",
    "    o.order_id,\n",
    "    o.order_date,\n",
    "    c.first_name,\n",
    "    c.last_name,\n",
    "    c.email,\n",
    "    o.total_amount \n",
    "FROM orders o\n",
    "JOIN customers c ON o.customer_id = c.customer_id;\n",
    "\"\"\"\n",
    "\n",
    "# Executing the query and loading the result into a Pandas DataFrame\n",
    "df_orders = pd.read_sql_query(query_orders_customers, conn)\n",
    "\n",
    "# Displaying the extracted data\n",
    "print(\"Extracted orders and customers data:\")\n",
    "print(df_orders.head())  # Display the first 5 rows\n"
   ]
  },
  {
   "cell_type": "markdown",
   "id": "26af4239-e0f0-4f60-adc6-1ae87bb2399d",
   "metadata": {},
   "source": [
    "# Example 2: Data Cleaning with Pandas\n",
    "\n",
    "This example demonstrates how to clean data in a Pandas DataFrame. Cleaning involves handling missing values and ensuring columns have the correct data types for further analysis.\n",
    "\n",
    "### Steps:\n",
    "1. **Identify Missing Values**:\n",
    "   - Use `.isnull().sum()` to check for missing values in the DataFrame columns.\n",
    "\n",
    "2. **Convert 'order_date' to `datetime`**:\n",
    "   - Convert the `order_date` column into a `datetime` format using `pd.to_datetime()`.\n",
    "   - Use `errors='coerce'` to replace invalid dates with `NaT` (*Not a Time*).\n",
    "\n",
    "3. **Handle Missing Values**:\n",
    "   - Replace missing values in `total_amount` with a default value (0 in this case).\n",
    "   - Investigate why values are missing in a real project (e.g., recalculation errors or data inconsistencies).\n",
    "\n",
    "4. **Recheck Missing Values**:\n",
    "   - Verify that all missing values have been handled after cleaning.\n",
    "\n",
    "5. **Verify Data Types**:\n",
    "   - Print the data types of the columns using `.dtypes` to confirm the successful conversion of the `order_date` column to a `datetime` format.\n"
   ]
  },
  {
   "cell_type": "code",
   "execution_count": null,
   "id": "99558b70-be29-459a-b383-201c255081e8",
   "metadata": {},
   "outputs": [
    {
     "name": "stdout",
     "output_type": "stream",
     "text": [
      "\n",
      "--- Data Cleaning ---\n",
      "Missing values before cleaning:\n",
      "order_id        0\n",
      "order_date      0\n",
      "first_name      0\n",
      "last_name       0\n",
      "email           0\n",
      "total_amount    1\n",
      "dtype: int64\n",
      "\n",
      "Replaced 1 missing values in 'total_amount' with 0.\n",
      "\n",
      "Missing values after cleaning:\n",
      "order_id        0\n",
      "order_date      0\n",
      "first_name      0\n",
      "last_name       0\n",
      "email           0\n",
      "total_amount    0\n",
      "dtype: int64\n",
      "\n",
      "Data types after cleaning:\n",
      "order_id                 int64\n",
      "order_date      datetime64[ns]\n",
      "first_name              object\n",
      "last_name               object\n",
      "email                   object\n",
      "total_amount           float64\n",
      "dtype: object\n"
     ]
    }
   ],
   "source": [
    "# --- Example 2: Data Cleaning with Pandas ---\n",
    "print(\"\\n--- Data Cleaning ---\")\n",
    "\n",
    "# Checking for missing values\n",
    "print(\"Missing values before cleaning:\")\n",
    "print(df_orders.isnull().sum())\n",
    "\n",
    "# Convert the 'order_date' column to datetime format\n",
    "df_orders['order_date'] = pd.to_datetime(df_orders['order_date'], errors='coerce') \n",
    "# errors='coerce' will convert invalid data to NaT (Not a Time)\n",
    "\n",
    "# Fill missing values in 'total_amount' with 0 or with the mean/median (choosing 0 here)\n",
    "# In a real project, we would investigate why values are missing (maybe recalculated from order_items)\n",
    "initial_missing_count = df_orders['total_amount'].isnull().sum()\n",
    "df_orders['total_amount'] = df_orders['total_amount'].fillna(0) \n",
    "print(f\"\\nReplaced {initial_missing_count} missing values in 'total_amount' with 0.\")\n",
    "\n",
    "# Check for missing values again\n",
    "print(\"\\nMissing values after cleaning:\")\n",
    "print(df_orders.isnull().sum())\n",
    "\n",
    "# Display data types to verify date conversion\n",
    "print(\"\\nData types after cleaning:\")\n",
    "print(df_orders.dtypes)\n"
   ]
  },
  {
   "cell_type": "markdown",
   "id": "539b65c8-63b4-4adf-8b5f-3af9ad5e7688",
   "metadata": {},
   "source": [
    "# Example 3: Simple Analysis with Pandas\n",
    "\n",
    "This example demonstrates three simple yet essential analyses using Pandas to extract insights from a DataFrame (`df_orders`). \n",
    "\n",
    "### Analysis Breakdown:\n",
    "1. **Number of Orders per Customer**:\n",
    "   - We calculate how many orders each customer placed using `.value_counts()` on the `email` column.\n",
    "\n",
    "2. **Total Value of Orders per Customer**:\n",
    "   - By grouping the DataFrame by customer attributes (`email`, `first_name`, and `last_name`), we sum up the `total_amount` to determine how much each customer spent in total. The result is sorted in descending order.\n",
    "\n",
    "3. **Total Sales per Month**:\n",
    "   - Extract the month and year from the `order_date` column using `.dt.to_period('M')`.\n",
    "   - Group the data by `order_month` and sum the `total_amount` to analyze monthly sales performance.\n",
    "\n",
    "These analyses are foundational for understanding customer behavior and sales trends in a business.\n"
   ]
  },
  {
   "cell_type": "code",
   "execution_count": null,
   "id": "fa4c6e96-bf2b-4033-bdb6-697b0b2b2fc0",
   "metadata": {},
   "outputs": [
    {
     "name": "stdout",
     "output_type": "stream",
     "text": [
      "\n",
      "--- Data Analysis ---\n",
      "\n",
      "Number of orders per customer:\n",
      "email\n",
      "ana.p@email.com         3\n",
      "bogdan.i@email.com      2\n",
      "cristina.d@email.com    1\n",
      "dan.g@email.com         1\n",
      "Name: count, dtype: int64\n",
      "\n",
      "Total amount spent per customer:\n",
      "email                 first_name  last_name \n",
      "ana.p@email.com       Ana         Popescu       5500.0\n",
      "dan.g@email.com       Dan         Georgescu     4500.0\n",
      "cristina.d@email.com  Cristina    Diaconescu    1200.0\n",
      "bogdan.i@email.com    Bogdan      Ionescu        150.0\n",
      "Name: total_amount, dtype: float64\n",
      "\n",
      "Total sales per month:\n",
      "order_month\n",
      "2023-10    4800.0\n",
      "2023-11    6250.0\n",
      "2023-12     300.0\n",
      "Freq: M, Name: total_amount, dtype: float64\n"
     ]
    }
   ],
   "source": [
    "# --- Example 3: Simple Analysis with Pandas ---\n",
    "print(\"\\n--- Data Analysis ---\")\n",
    "\n",
    "# 1. How many orders did each customer place?\n",
    "customer_order_counts = df_orders['email'].value_counts()\n",
    "print(\"\\nNumber of orders per customer:\")\n",
    "print(customer_order_counts)\n",
    "\n",
    "# 2. What is the total value of orders per customer?\n",
    "customer_total_spent = df_orders.groupby(['email', 'first_name', 'last_name'])['total_amount'].sum().sort_values(ascending=False)\n",
    "print(\"\\nTotal amount spent per customer:\")\n",
    "print(customer_total_spent)\n",
    "\n",
    "# 3. Total sales per month\n",
    "# Extract month and year from the order date\n",
    "df_orders['order_month'] = df_orders['order_date'].dt.to_period('M') \n",
    "monthly_sales = df_orders.groupby('order_month')['total_amount'].sum()\n",
    "print(\"\\nTotal sales per month:\")\n",
    "print(monthly_sales)\n"
   ]
  },
  {
   "cell_type": "markdown",
   "id": "1d5d9688-56d4-4b4e-96d6-324bbafbe0d6",
   "metadata": {},
   "source": [
    "# Example 4: Analysis Combining Multiple Tables (Using SQL)\n",
    "\n",
    "This example demonstrates how to perform analysis by combining multiple tables using SQL. The goal is to determine the top-selling products by their quantity sold.\n",
    "\n",
    "### Analysis Breakdown:\n",
    "1. **SQL Query**:\n",
    "   - Combines `order_items` and `products` tables using an SQL `JOIN` clause on the `product_id` column.\n",
    "   - Groups the data by `product_name` and calculates the total quantity sold for each product using `SUM()`.\n",
    "   - Orders the result in descending order of total quantity sold to highlight the most popular products.\n",
    "\n",
    "2. **Execution**:\n",
    "   - Use `pandas.read_sql_query` to execute the SQL query and load the result into a Pandas DataFrame (`df_top_products`).\n",
    "\n",
    "3. **Result Display**:\n",
    "   - Print the DataFrame to display the top-selling products and their corresponding quantities.\n"
   ]
  },
  {
   "cell_type": "code",
   "execution_count": null,
   "id": "2fe779a8-42c2-4bc2-9122-bff13485a455",
   "metadata": {},
   "outputs": [
    {
     "name": "stdout",
     "output_type": "stream",
     "text": [
      "\n",
      "--- Top Sold Products ---\n",
      "Top sold products (by quantity):\n",
      "  product_name  total_quantity_sold\n",
      "0        Mouse                    3\n",
      "1       Laptop                    2\n",
      "2     Keyboard                    2\n",
      "3       Webcam                    1\n",
      "4      Monitor                    1\n"
     ]
    }
   ],
   "source": [
    "# --- Example 4: Analysis Combining Multiple Tables (Using SQL) ---\n",
    "print(\"\\n--- Top Sold Products ---\")\n",
    "\n",
    "# Writing SQL query to identify top-selling products by quantity\n",
    "query_top_products = \"\"\"\n",
    "SELECT\n",
    "    p.product_name,\n",
    "    SUM(oi.quantity) as total_quantity_sold\n",
    "FROM order_items oi\n",
    "JOIN products p ON oi.product_id = p.product_id\n",
    "GROUP BY p.product_name\n",
    "ORDER BY total_quantity_sold DESC;\n",
    "\"\"\"\n",
    "\n",
    "# Executing the query and loading the result into a Pandas DataFrame\n",
    "df_top_products = pd.read_sql_query(query_top_products, conn)\n",
    "\n",
    "# Displaying the results\n",
    "print(\"Top sold products (by quantity):\")\n",
    "print(df_top_products)\n"
   ]
  },
  {
   "cell_type": "markdown",
   "id": "1bb3c9e5-3dd1-4261-95c4-fca17f14e5e6",
   "metadata": {},
   "source": [
    "# Example 5: Simple Visualization (Optional)\n",
    "\n",
    "This example demonstrates how to visualize the total monthly sales data using a bar chart. \n",
    "\n",
    "### Visualization Breakdown:\n",
    "1. **Formatting the Index**:\n",
    "   - The index of the `monthly_sales` DataFrame is converted to a string using `.astype(str)` to ensure compatibility with the plotting function.\n",
    "\n",
    "2. **Creating the Plot**:\n",
    "   - A bar chart is generated using `plt.figure()` and the Pandas `.plot()` method, with appropriate labels and a title for clarity.\n",
    "   - Labels for the X-axis (months) are rotated to improve readability.\n",
    "\n",
    "3. **Layout Adjustment**:\n",
    "   - `plt.tight_layout()` ensures the elements of the plot fit well within the figure.\n",
    "\n",
    "4. **Saving the Plot**:\n",
    "   - Instead of displaying the plot interactively with `plt.show()`, it is saved as an image file (`monthly_sales.png`) using `plt.savefig()`.\n",
    "\n",
    "This approach is ideal for presenting insights visually and sharing the output as an image for documentation or presentations.\n"
   ]
  },
  {
   "cell_type": "code",
   "execution_count": null,
   "id": "65cba369-ada1-4b9e-9bde-0a529055df04",
   "metadata": {},
   "outputs": [
    {
     "name": "stdout",
     "output_type": "stream",
     "text": [
      "\n",
      "--- Monthly Sales Visualization ---\n",
      "Monthly sales chart saved as 'monthly_sales.png'.\n"
     ]
    },
    {
     "data": {
      "image/png": "[encoded data removed]",
      "text/plain": [
       "<Figure size 1000x500 with 1 Axes>"
      ]
     },
     "metadata": {},
     "output_type": "display_data"
    }
   ],
   "source": [
    "# --- Example 5: Simple Visualization (Optional) ---\n",
    "print(\"\\n--- Monthly Sales Visualization ---\")\n",
    "\n",
    "# Ensure the index is a string for plotting\n",
    "monthly_sales.index = monthly_sales.index.astype(str) \n",
    "\n",
    "# Create a figure for the bar chart\n",
    "plt.figure(figsize=(10, 5))  # Define figure size\n",
    "monthly_sales.plot(kind='bar', title='Total Monthly Sales')  # Plot as a bar chart\n",
    "plt.xlabel('Month')  # Set X-axis label\n",
    "plt.ylabel('Total Sales (RON)')  # Set Y-axis label\n",
    "plt.xticks(rotation=45)  # Rotate X-axis labels for readability\n",
    "plt.tight_layout()  # Adjust layout for better fit\n",
    "# plt.show()  # Uncomment this to display the plot interactively\n",
    "plt.savefig('../visualizations/monthly_sales.png')  # Save the plot as an image\n",
    "print(\"Monthly sales chart saved as 'monthly_sales.png'.\")\n"
   ]
  },
  {
   "cell_type": "markdown",
   "id": "314aabde-2840-4892-8190-cd4c960329a4",
   "metadata": {},
   "source": [
    "# Closing the Database Connection\n",
    "\n",
    "After completing all database-related operations, it is essential to close the connection to the database. This helps release resources and ensures there are no issues with unclosed connections.\n",
    "\n",
    "### Explanation:\n",
    "1. **Closing the Connection**:\n",
    "   - The `conn.close()` command is used to safely terminate the connection to the database.\n",
    "2. **Confirmation Message**:\n",
    "   - A confirmation message is printed to inform the user that the connection has been successfully closed.\n"
   ]
  },
  {
   "cell_type": "code",
   "execution_count": null,
   "id": "58836fe1-79de-468e-a884-28b14b4cced6",
   "metadata": {},
   "outputs": [
    {
     "name": "stdout",
     "output_type": "stream",
     "text": [
      "\n",
      "Database connection closed.\n"
     ]
    }
   ],
   "source": [
    "# Close connection\n",
    "conn.close()\n",
    "print(\"\\nDatabase connection closed.\")\n"
   ]
  }
 ],
 "metadata": {
  "kernelspec": {
   "display_name": "Python 3 (ipykernel)",
   "language": "python",
   "name": "python3"
  },
  "language_info": {
   "codemirror_mode": {
    "name": "ipython",
    "version": 3
   },
   "file_extension": ".py",
   "mimetype": "text/x-python",
   "name": "python",
   "nbconvert_exporter": "python",
   "pygments_lexer": "ipython3",
   "version": "3.10.5"
  }
 },
 "nbformat": 4,
 "nbformat_minor": 5
}
